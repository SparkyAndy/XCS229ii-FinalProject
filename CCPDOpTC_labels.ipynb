{
 "cells": [
  {
   "cell_type": "code",
   "execution_count": 1,
   "metadata": {},
   "outputs": [
    {
     "name": "stdout",
     "output_type": "stream",
     "text": [
      "3.8.8\n"
     ]
    }
   ],
   "source": [
    "# library imports\n",
    "import numpy as np\n",
    "from collections import Counter\n",
    "import pandas as pd\n",
    "import matplotlib.pyplot as plt\n",
    "import seaborn as sns\n",
    "from platform import python_version\n",
    "print(python_version())"
   ]
  },
  {
   "cell_type": "code",
   "execution_count": 2,
   "metadata": {},
   "outputs": [],
   "source": [
    "attacked_computers = ['SysClient0501.systemia.com','SysClient0201.systemia.com','SysClient0351.systemia.com','SysClient0811.systemia.com',\n",
    "                      'SysClient0051.systemia.com','SysClient0660.systemia.com','SysClient0874.systemia.com','SysClient0104.systemia.com',\n",
    "                      'SysClient0205.systemia.com','SysClient0321.systemia.com','SysClient0355.systemia.com',\n",
    "                      'SysClient0974.systemia.com','SysClient0955.systemia.com','SysClient0462.systemia.com','SysClient0609.systemia.com',\n",
    "                      'SysClient0255.systemia.com','SysClient0559.systemia.com','SysClient0402.systemia.com','SysClient0419.systemia.com',\n",
    "                      'SysClient0170.systemia.com','SysClient0503.systemia.com','SysClient0771.systemia.com','SysClient0005.systemia.com',\n",
    "                      'SysClient0010.systemia.com','SysClient0069.systemia.com','SysClient0203.systemia.com','SysClient0358.systemia.com',\n",
    "                      'SysClient0618.systemia.com','SysClient0851.systemia.com'\n",
    "                      ]\n",
    "\n",
    "# various pandas settings\n",
    "pd.set_option('max_columns', 5)\n",
    "pd.set_option('display.width', 140)"
   ]
  },
  {
   "cell_type": "markdown",
   "metadata": {},
   "source": [
    "### Ground Truth\n",
    "\n",
    "Reproduce the figure from Benoit's paper - credit to them for doing over all dataset (I think)"
   ]
  },
  {
   "cell_type": "code",
   "execution_count": 3,
   "metadata": {},
   "outputs": [
    {
     "name": "stdout",
     "output_type": "stream",
     "text": [
      "(292264, 7)\n",
      "hostname               SysClient0201.systemia.com\n",
      "id           43fb9623-3cd1-45ec-ab22-dbe46e75240e\n",
      "objectID     96913629-c1c9-4503-9586-4a91de0e7311\n",
      "actorID      af6b49d5-f648-41a4-946d-d92b174bae47\n",
      "timestamp           2019-09-23T11:23:55.857-04:00\n",
      "object                                    PROCESS\n",
      "action                                     CREATE\n",
      "Name: 0, dtype: object\n"
     ]
    }
   ],
   "source": [
    "# truth file - BUCKET same - file_name = \"OpTCNCR/truth/labels.csv\"\n",
    "\n",
    "# Low side\n",
    "datafile = \"/Users/andrewveal/Downloads/labels.csv\"\n",
    "df_labels = pd.read_csv(datafile).drop_duplicates() \n",
    "\n",
    "print(df_labels.shape)\n",
    "print(df_labels.iloc[0])\n",
    "\n",
    "# df_labels[['object', 'action']].value_counts()"
   ]
  },
  {
   "cell_type": "code",
   "execution_count": 4,
   "metadata": {},
   "outputs": [
    {
     "data": {
      "text/html": [
       "<div>\n",
       "<style scoped>\n",
       "    .dataframe tbody tr th:only-of-type {\n",
       "        vertical-align: middle;\n",
       "    }\n",
       "\n",
       "    .dataframe tbody tr th {\n",
       "        vertical-align: top;\n",
       "    }\n",
       "\n",
       "    .dataframe thead th {\n",
       "        text-align: right;\n",
       "    }\n",
       "</style>\n",
       "<table border=\"1\" class=\"dataframe\">\n",
       "  <thead>\n",
       "    <tr style=\"text-align: right;\">\n",
       "      <th></th>\n",
       "      <th>objectID</th>\n",
       "      <th>actorID</th>\n",
       "      <th>object</th>\n",
       "      <th>action</th>\n",
       "    </tr>\n",
       "  </thead>\n",
       "  <tbody>\n",
       "    <tr>\n",
       "      <th>0</th>\n",
       "      <td>96913629-c1c9-4503-9586-4a91de0e7311</td>\n",
       "      <td>af6b49d5-f648-41a4-946d-d92b174bae47</td>\n",
       "      <td>PROCESS</td>\n",
       "      <td>CREATE</td>\n",
       "    </tr>\n",
       "    <tr>\n",
       "      <th>1</th>\n",
       "      <td>b53c1986-842c-493a-910c-78b55da2575f</td>\n",
       "      <td>96913629-c1c9-4503-9586-4a91de0e7311</td>\n",
       "      <td>SHELL</td>\n",
       "      <td>COMMAND</td>\n",
       "    </tr>\n",
       "    <tr>\n",
       "      <th>2</th>\n",
       "      <td>b53c1986-842c-493a-910c-78b55da2575f</td>\n",
       "      <td>96913629-c1c9-4503-9586-4a91de0e7311</td>\n",
       "      <td>SHELL</td>\n",
       "      <td>COMMAND</td>\n",
       "    </tr>\n",
       "    <tr>\n",
       "      <th>3</th>\n",
       "      <td>b53c1986-842c-493a-910c-78b55da2575f</td>\n",
       "      <td>96913629-c1c9-4503-9586-4a91de0e7311</td>\n",
       "      <td>SHELL</td>\n",
       "      <td>COMMAND</td>\n",
       "    </tr>\n",
       "    <tr>\n",
       "      <th>4</th>\n",
       "      <td>b53c1986-842c-493a-910c-78b55da2575f</td>\n",
       "      <td>96913629-c1c9-4503-9586-4a91de0e7311</td>\n",
       "      <td>SHELL</td>\n",
       "      <td>COMMAND</td>\n",
       "    </tr>\n",
       "    <tr>\n",
       "      <th>5</th>\n",
       "      <td>07d7e86a-cf6d-43bf-85ee-50dfddf186b4</td>\n",
       "      <td>96913629-c1c9-4503-9586-4a91de0e7311</td>\n",
       "      <td>FLOW</td>\n",
       "      <td>START</td>\n",
       "    </tr>\n",
       "    <tr>\n",
       "      <th>6</th>\n",
       "      <td>b53c1986-842c-493a-910c-78b55da2575f</td>\n",
       "      <td>96913629-c1c9-4503-9586-4a91de0e7311</td>\n",
       "      <td>SHELL</td>\n",
       "      <td>COMMAND</td>\n",
       "    </tr>\n",
       "    <tr>\n",
       "      <th>7</th>\n",
       "      <td>b53c1986-842c-493a-910c-78b55da2575f</td>\n",
       "      <td>96913629-c1c9-4503-9586-4a91de0e7311</td>\n",
       "      <td>SHELL</td>\n",
       "      <td>COMMAND</td>\n",
       "    </tr>\n",
       "    <tr>\n",
       "      <th>8</th>\n",
       "      <td>46381023-8bda-4eab-a41c-1728f1a1b69e</td>\n",
       "      <td>96913629-c1c9-4503-9586-4a91de0e7311</td>\n",
       "      <td>FLOW</td>\n",
       "      <td>MESSAGE</td>\n",
       "    </tr>\n",
       "    <tr>\n",
       "      <th>9</th>\n",
       "      <td>99c69966-a4f0-4abd-92c7-f2f5bd205350</td>\n",
       "      <td>96913629-c1c9-4503-9586-4a91de0e7311</td>\n",
       "      <td>FLOW</td>\n",
       "      <td>MESSAGE</td>\n",
       "    </tr>\n",
       "    <tr>\n",
       "      <th>10</th>\n",
       "      <td>07d7e86a-cf6d-43bf-85ee-50dfddf186b4</td>\n",
       "      <td>96913629-c1c9-4503-9586-4a91de0e7311</td>\n",
       "      <td>FLOW</td>\n",
       "      <td>MESSAGE</td>\n",
       "    </tr>\n",
       "    <tr>\n",
       "      <th>11</th>\n",
       "      <td>b53c1986-842c-493a-910c-78b55da2575f</td>\n",
       "      <td>96913629-c1c9-4503-9586-4a91de0e7311</td>\n",
       "      <td>SHELL</td>\n",
       "      <td>COMMAND</td>\n",
       "    </tr>\n",
       "    <tr>\n",
       "      <th>12</th>\n",
       "      <td>b53c1986-842c-493a-910c-78b55da2575f</td>\n",
       "      <td>96913629-c1c9-4503-9586-4a91de0e7311</td>\n",
       "      <td>SHELL</td>\n",
       "      <td>COMMAND</td>\n",
       "    </tr>\n",
       "    <tr>\n",
       "      <th>13</th>\n",
       "      <td>b53c1986-842c-493a-910c-78b55da2575f</td>\n",
       "      <td>96913629-c1c9-4503-9586-4a91de0e7311</td>\n",
       "      <td>SHELL</td>\n",
       "      <td>COMMAND</td>\n",
       "    </tr>\n",
       "    <tr>\n",
       "      <th>14</th>\n",
       "      <td>178112b3-f1bd-4b85-81c8-cf971ae24b90</td>\n",
       "      <td>96913629-c1c9-4503-9586-4a91de0e7311</td>\n",
       "      <td>THREAD</td>\n",
       "      <td>CREATE</td>\n",
       "    </tr>\n",
       "    <tr>\n",
       "      <th>15</th>\n",
       "      <td>b53c1986-842c-493a-910c-78b55da2575f</td>\n",
       "      <td>96913629-c1c9-4503-9586-4a91de0e7311</td>\n",
       "      <td>SHELL</td>\n",
       "      <td>COMMAND</td>\n",
       "    </tr>\n",
       "    <tr>\n",
       "      <th>16</th>\n",
       "      <td>de3919c9-44ea-491f-b588-c5950a56a7ee</td>\n",
       "      <td>96913629-c1c9-4503-9586-4a91de0e7311</td>\n",
       "      <td>FLOW</td>\n",
       "      <td>START</td>\n",
       "    </tr>\n",
       "    <tr>\n",
       "      <th>17</th>\n",
       "      <td>b53c1986-842c-493a-910c-78b55da2575f</td>\n",
       "      <td>96913629-c1c9-4503-9586-4a91de0e7311</td>\n",
       "      <td>SHELL</td>\n",
       "      <td>COMMAND</td>\n",
       "    </tr>\n",
       "    <tr>\n",
       "      <th>18</th>\n",
       "      <td>7f59ce98-da6d-484a-9ba3-9b8d67ffa31f</td>\n",
       "      <td>96913629-c1c9-4503-9586-4a91de0e7311</td>\n",
       "      <td>THREAD</td>\n",
       "      <td>CREATE</td>\n",
       "    </tr>\n",
       "    <tr>\n",
       "      <th>19</th>\n",
       "      <td>7f59ce98-da6d-484a-9ba3-9b8d67ffa31f</td>\n",
       "      <td>96913629-c1c9-4503-9586-4a91de0e7311</td>\n",
       "      <td>THREAD</td>\n",
       "      <td>TERMINATE</td>\n",
       "    </tr>\n",
       "  </tbody>\n",
       "</table>\n",
       "</div>"
      ],
      "text/plain": [
       "                                objectID                               actorID   object     action\n",
       "0   96913629-c1c9-4503-9586-4a91de0e7311  af6b49d5-f648-41a4-946d-d92b174bae47  PROCESS     CREATE\n",
       "1   b53c1986-842c-493a-910c-78b55da2575f  96913629-c1c9-4503-9586-4a91de0e7311    SHELL    COMMAND\n",
       "2   b53c1986-842c-493a-910c-78b55da2575f  96913629-c1c9-4503-9586-4a91de0e7311    SHELL    COMMAND\n",
       "3   b53c1986-842c-493a-910c-78b55da2575f  96913629-c1c9-4503-9586-4a91de0e7311    SHELL    COMMAND\n",
       "4   b53c1986-842c-493a-910c-78b55da2575f  96913629-c1c9-4503-9586-4a91de0e7311    SHELL    COMMAND\n",
       "5   07d7e86a-cf6d-43bf-85ee-50dfddf186b4  96913629-c1c9-4503-9586-4a91de0e7311     FLOW      START\n",
       "6   b53c1986-842c-493a-910c-78b55da2575f  96913629-c1c9-4503-9586-4a91de0e7311    SHELL    COMMAND\n",
       "7   b53c1986-842c-493a-910c-78b55da2575f  96913629-c1c9-4503-9586-4a91de0e7311    SHELL    COMMAND\n",
       "8   46381023-8bda-4eab-a41c-1728f1a1b69e  96913629-c1c9-4503-9586-4a91de0e7311     FLOW    MESSAGE\n",
       "9   99c69966-a4f0-4abd-92c7-f2f5bd205350  96913629-c1c9-4503-9586-4a91de0e7311     FLOW    MESSAGE\n",
       "10  07d7e86a-cf6d-43bf-85ee-50dfddf186b4  96913629-c1c9-4503-9586-4a91de0e7311     FLOW    MESSAGE\n",
       "11  b53c1986-842c-493a-910c-78b55da2575f  96913629-c1c9-4503-9586-4a91de0e7311    SHELL    COMMAND\n",
       "12  b53c1986-842c-493a-910c-78b55da2575f  96913629-c1c9-4503-9586-4a91de0e7311    SHELL    COMMAND\n",
       "13  b53c1986-842c-493a-910c-78b55da2575f  96913629-c1c9-4503-9586-4a91de0e7311    SHELL    COMMAND\n",
       "14  178112b3-f1bd-4b85-81c8-cf971ae24b90  96913629-c1c9-4503-9586-4a91de0e7311   THREAD     CREATE\n",
       "15  b53c1986-842c-493a-910c-78b55da2575f  96913629-c1c9-4503-9586-4a91de0e7311    SHELL    COMMAND\n",
       "16  de3919c9-44ea-491f-b588-c5950a56a7ee  96913629-c1c9-4503-9586-4a91de0e7311     FLOW      START\n",
       "17  b53c1986-842c-493a-910c-78b55da2575f  96913629-c1c9-4503-9586-4a91de0e7311    SHELL    COMMAND\n",
       "18  7f59ce98-da6d-484a-9ba3-9b8d67ffa31f  96913629-c1c9-4503-9586-4a91de0e7311   THREAD     CREATE\n",
       "19  7f59ce98-da6d-484a-9ba3-9b8d67ffa31f  96913629-c1c9-4503-9586-4a91de0e7311   THREAD  TERMINATE"
      ]
     },
     "execution_count": 4,
     "metadata": {},
     "output_type": "execute_result"
    }
   ],
   "source": [
    "df_labels[['objectID', 'actorID', 'object', 'action']].head(20)"
   ]
  },
  {
   "cell_type": "code",
   "execution_count": 5,
   "metadata": {},
   "outputs": [
    {
     "data": {
      "text/plain": [
       "hostname                           SysClient0201.systemia.com\n",
       "objectID                 96913629-c1c9-4503-9586-4a91de0e7311\n",
       "actorID                  af6b49d5-f648-41a4-946d-d92b174bae47\n",
       "FILE_CREATE_                                                0\n",
       "FILE_DELETE_                                                0\n",
       "FILE_MODIFY_                                                0\n",
       "FILE_READ_                                                  0\n",
       "FILE_RENAME_                                                0\n",
       "FILE_WRITE_                                                 0\n",
       "FLOW_MESSAGE_                                               0\n",
       "FLOW_OPEN_                                                  0\n",
       "FLOW_START_                                                 0\n",
       "MODULE_LOAD_                                                0\n",
       "PROCESS_CREATE_                                             1\n",
       "PROCESS_OPEN_                                               0\n",
       "PROCESS_TERMINATE_                                          0\n",
       "REGISTRY_ADD_                                               0\n",
       "REGISTRY_EDIT_                                              0\n",
       "REGISTRY_REMOVE_                                            0\n",
       "SHELL_COMMAND_                                              0\n",
       "THREAD_CREATE_                                              0\n",
       "THREAD_REMOTE_CREATE_                                       0\n",
       "THREAD_TERMINATE_                                           0\n",
       "Name: 0, dtype: object"
      ]
     },
     "execution_count": 5,
     "metadata": {},
     "output_type": "execute_result"
    }
   ],
   "source": [
    "def make_string(row, labs):\n",
    "    tup = \"\"\n",
    "    for lab in labs:\n",
    "        tup = tup + row[lab] + \"_\"\n",
    "    return tup\n",
    "\n",
    "msk = df_labels['object'].isnull()\n",
    "for row in df_labels.loc[msk].index :\n",
    "    df_labels.at[row, 'object'] = 'UNKNOWN'\n",
    "\n",
    "df_labels['object_action'] = df_labels.apply(make_string, axis=1, args=[['object', 'action']])\n",
    "\n",
    "names_label = sorted(df_labels['object_action'].drop_duplicates().tolist())\n",
    "\n",
    "for name in names_label:\n",
    "    df_labels[name] = df_labels['object_action'].apply(lambda x: 1 if x == name else 0)\n",
    "\n",
    "df_labels = df_labels.drop(['id','timestamp', 'object', 'action', 'object_action'],axis=1)\n",
    "\n",
    "df_labels.iloc[0]"
   ]
  },
  {
   "cell_type": "code",
   "execution_count": 6,
   "metadata": {},
   "outputs": [
    {
     "data": {
      "image/png": "[encoded data removed]",
      "text/plain": [
       "<Figure size 576x396 with 1 Axes>"
      ]
     },
     "metadata": {},
     "output_type": "display_data"
    }
   ],
   "source": [
    "XL = df_labels.iloc[:, 3:]\n",
    "\n",
    "frequenciesL = XL.sum(axis=0)\n",
    "\n",
    "totalL = frequenciesL.sum()\n",
    "\n",
    "fractionL = (frequenciesL * 100.0) / totalL\n",
    "\n",
    "feature_listL = names_label\n",
    "\n",
    "%matplotlib inline\n",
    "# Set the style\n",
    "plt.style.use('seaborn')\n",
    "plt.tight_layout()\n",
    "# list of x locations for plotting\n",
    "x_values = list(range(len(fractionL)))\n",
    "# Make a bar chart\n",
    "plt.bar(x_values, fractionL, orientation = 'vertical')\n",
    "# Tick labels for x axis\n",
    "plt.xticks(x_values, feature_listL, rotation='vertical')\n",
    "# Axis labels and title\n",
    "plt.ylabel('Fraction - %'); plt.xlabel('Event types - object.action'); plt.title('Fraction of event types for malicious events in ground truth');"
   ]
  },
  {
   "cell_type": "markdown",
   "metadata": {},
   "source": [
    "### code from Benoit\n",
    "\n",
    "Idea - split data into day1, day2 and day3 - note: the 3 days do largely focus on different computers: unique to computer?\n",
    "\n",
    "Recon phases - different \n",
    "\n",
    "day1, day2, day3 different attacks - do use different computers - different attack profiles\n",
    "\n",
    "imbalanced learn - worth thinning out the majority benign processes - generic: not need too many to capture behaviour\n",
    "\n",
    "side comment - what does a tsne plot look like?\n",
    "\n",
    "\n",
    "labels = pd.read_csv(\"labels.csv\", parse_dates=[\"timestamp\"])\n",
    "hosts_eval_day1 = set(labels.loc[labels[\"timestamp\"].apply(lambda ts: ts.day) == 23][\"hostname\"])\n",
    "hosts_eval_day23 = set(labels[\"hostname\"]) - hosts_eval_day1\n",
    "assert hosts_eval_day1 & hosts_eval_day23 == set()\n",
    "\n",
    "Super helpful - can partition into day1 and day23 - different host sets\n"
   ]
  },
  {
   "cell_type": "code",
   "execution_count": 7,
   "metadata": {},
   "outputs": [
    {
     "name": "stdout",
     "output_type": "stream",
     "text": [
      "(292264, 7)\n",
      "hostname               SysClient0201.systemia.com\n",
      "id           43fb9623-3cd1-45ec-ab22-dbe46e75240e\n",
      "objectID     96913629-c1c9-4503-9586-4a91de0e7311\n",
      "actorID      af6b49d5-f648-41a4-946d-d92b174bae47\n",
      "timestamp        2019-09-23 11:23:55.857000-04:00\n",
      "object                                    PROCESS\n",
      "action                                     CREATE\n",
      "Name: 0, dtype: object\n"
     ]
    }
   ],
   "source": [
    "# Low side\n",
    "datafile = \"/Users/andrewveal/Downloads/labels.csv\"\n",
    "labels_df = pd.read_csv(datafile, parse_dates=[\"timestamp\"]).drop_duplicates() \n",
    "\n",
    "print(labels_df.shape)\n",
    "print(labels_df.iloc[0])"
   ]
  },
  {
   "cell_type": "code",
   "execution_count": 8,
   "metadata": {},
   "outputs": [],
   "source": [
    "hosts_eval_day1 = set(labels_df.loc[labels_df[\"timestamp\"].apply(lambda ts: ts.day) == 23][\"hostname\"])\n",
    "hosts_eval_day23 = set(labels_df[\"hostname\"]) - hosts_eval_day1\n",
    "assert hosts_eval_day1 & hosts_eval_day23 == set()"
   ]
  },
  {
   "cell_type": "code",
   "execution_count": 9,
   "metadata": {},
   "outputs": [
    {
     "data": {
      "text/plain": [
       "{'SysClient0104.systemia.com',\n",
       " 'SysClient0170.systemia.com',\n",
       " 'SysClient0201.systemia.com',\n",
       " 'SysClient0205.systemia.com',\n",
       " 'SysClient0255.systemia.com',\n",
       " 'SysClient0321.systemia.com',\n",
       " 'SysClient0355.systemia.com',\n",
       " 'SysClient0402.systemia.com',\n",
       " 'SysClient0419.systemia.com',\n",
       " 'SysClient0462.systemia.com',\n",
       " 'SysClient0503.systemia.com',\n",
       " 'SysClient0559.systemia.com',\n",
       " 'SysClient0609.systemia.com',\n",
       " 'SysClient0660.systemia.com',\n",
       " 'SysClient0771.systemia.com',\n",
       " 'SysClient0874.systemia.com',\n",
       " 'SysClient0955.systemia.com'}"
      ]
     },
     "execution_count": 9,
     "metadata": {},
     "output_type": "execute_result"
    }
   ],
   "source": [
    "hosts_eval_day1"
   ]
  },
  {
   "cell_type": "code",
   "execution_count": 10,
   "metadata": {},
   "outputs": [
    {
     "data": {
      "text/plain": [
       "{'SysClient0010.systemia.com',\n",
       " 'SysClient0051.systemia.com',\n",
       " 'SysClient0069.systemia.com',\n",
       " 'SysClient0203.systemia.com',\n",
       " 'SysClient0351.systemia.com',\n",
       " 'SysClient0358.systemia.com',\n",
       " 'SysClient0501.systemia.com',\n",
       " 'SysClient0618.systemia.com',\n",
       " 'SysClient0811.systemia.com',\n",
       " 'SysClient0851.systemia.com'}"
      ]
     },
     "execution_count": 10,
     "metadata": {},
     "output_type": "execute_result"
    }
   ],
   "source": [
    "hosts_eval_day23"
   ]
  },
  {
   "cell_type": "code",
   "execution_count": 11,
   "metadata": {},
   "outputs": [],
   "source": [
    "hosts_eval_day2 = set(labels_df.loc[labels_df[\"timestamp\"].apply(lambda ts: ts.day) == 24][\"hostname\"])\n",
    "#hosts_eval_day23 = set(labels_df[\"hostname\"]) - hosts_eval_day1\n",
    "#assert hosts_eval_day1 & hosts_eval_day23 == set()"
   ]
  },
  {
   "cell_type": "code",
   "execution_count": 12,
   "metadata": {},
   "outputs": [
    {
     "data": {
      "text/plain": [
       "{'SysClient0010.systemia.com',\n",
       " 'SysClient0069.systemia.com',\n",
       " 'SysClient0203.systemia.com',\n",
       " 'SysClient0358.systemia.com',\n",
       " 'SysClient0501.systemia.com',\n",
       " 'SysClient0618.systemia.com',\n",
       " 'SysClient0811.systemia.com',\n",
       " 'SysClient0851.systemia.com'}"
      ]
     },
     "execution_count": 12,
     "metadata": {},
     "output_type": "execute_result"
    }
   ],
   "source": [
    "hosts_eval_day2"
   ]
  },
  {
   "cell_type": "code",
   "execution_count": 13,
   "metadata": {},
   "outputs": [],
   "source": [
    "hosts_eval_day3 = set(labels_df.loc[labels_df[\"timestamp\"].apply(lambda ts: ts.day) == 25][\"hostname\"])"
   ]
  },
  {
   "cell_type": "code",
   "execution_count": 14,
   "metadata": {},
   "outputs": [
    {
     "data": {
      "text/plain": [
       "{'SysClient0010.systemia.com',\n",
       " 'SysClient0051.systemia.com',\n",
       " 'SysClient0069.systemia.com',\n",
       " 'SysClient0203.systemia.com',\n",
       " 'SysClient0351.systemia.com',\n",
       " 'SysClient0358.systemia.com',\n",
       " 'SysClient0501.systemia.com',\n",
       " 'SysClient0618.systemia.com',\n",
       " 'SysClient0851.systemia.com'}"
      ]
     },
     "execution_count": 14,
     "metadata": {},
     "output_type": "execute_result"
    }
   ],
   "source": [
    "hosts_eval_day3"
   ]
  },
  {
   "cell_type": "code",
   "execution_count": null,
   "metadata": {},
   "outputs": [],
   "source": []
  }
 ],
 "metadata": {
  "kernelspec": {
   "display_name": "Python 3",
   "language": "python",
   "name": "python3"
  },
  "language_info": {
   "codemirror_mode": {
    "name": "ipython",
    "version": 3
   },
   "file_extension": ".py",
   "mimetype": "text/x-python",
   "name": "python",
   "nbconvert_exporter": "python",
   "pygments_lexer": "ipython3",
   "version": "3.8.8"
  }
 },
 "nbformat": 4,
 "nbformat_minor": 4
}
